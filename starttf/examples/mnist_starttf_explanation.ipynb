{
 "cells": [
  {
   "cell_type": "markdown",
   "metadata": {
    "id": "5U1bPetVYK4G",
    "colab_type": "text"
   },
   "source": [
    "# Start Tensorflow with starttf\n",
    "\n",
    "First we need to install tensorflow and check if it works."
   ]
  },
  {
   "cell_type": "code",
   "execution_count": 0,
   "metadata": {
    "id": "YKRSAMwmWWzn",
    "colab_type": "code",
    "colab": {
     "autoexec": {
      "startup": false,
      "wait_interval": 0.0
     }
    }
   },
   "outputs": [],
   "source": [
    "!pip install tensorflow\n",
    "import tensorflow as tf"
   ]
  },
  {
   "cell_type": "code",
   "execution_count": 2,
   "metadata": {
    "id": "D7gE9-ECjngu",
    "colab_type": "code",
    "colab": {
     "autoexec": {
      "startup": false,
      "wait_interval": 0.0
     },
     "base_uri": "https://localhost:8080/",
     "height": 34.0
    },
    "outputId": "74029654-e99e-4185-c598-3c91f96ef6e2",
    "executionInfo": {
     "status": "ok",
     "timestamp": 1.526144714921E12,
     "user_tz": -120.0,
     "elapsed": 593.0,
     "user": {
      "displayName": "Michael PenguinMenace",
      "photoUrl": "//lh3.googleusercontent.com/-wv0FkQOEnjg/AAAAAAAAAAI/AAAAAAAAAHM/byTo6iipigo/s50-c-k-no/photo.jpg",
      "userId": "112772895502545919169"
     }
    }
   },
   "outputs": [
    {
     "name": "stdout",
     "output_type": "stream",
     "text": [
      "1.7.0\n"
     ]
    }
   ],
   "source": [
    "print(tf.__version__)"
   ]
  },
  {
   "cell_type": "markdown",
   "metadata": {
    "id": "KLjN3csHXFf2",
    "colab_type": "text"
   },
   "source": [
    "Next let's install starttf and opendatalake"
   ]
  },
  {
   "cell_type": "code",
   "execution_count": 0,
   "metadata": {
    "id": "Y8HotiWuYv1p",
    "colab_type": "code",
    "colab": {
     "autoexec": {
      "startup": false,
      "wait_interval": 0.0
     }
    }
   },
   "outputs": [],
   "source": [
    "!pip uninstall -y starttf\n",
    "!pip uninstall -y opendatalake\n",
    "\n",
    "!pip install https://github.com/penguinmenac3/starttf/archive/master.zip\n",
    "!pip install https://github.com/penguinmenac3/opendatalake/archive/master.zip"
   ]
  },
  {
   "cell_type": "markdown",
   "metadata": {
    "id": "as-_GHVsY-LQ",
    "colab_type": "text"
   },
   "source": [
    "# Starting out\n",
    "\n",
    "## Loading a dataset\n",
    "\n",
    "Let's start by loading a dataset.\n",
    "The simplest dataset for beginners is mnist.\n",
    "The good thing about mnist is, that you do not need any complex downloading code.\n",
    "Simply load it via the opendatalake."
   ]
  },
  {
   "cell_type": "code",
   "execution_count": 0,
   "metadata": {
    "id": "LNlTt3s5b8g0",
    "colab_type": "code",
    "colab": {
     "autoexec": {
      "startup": false,
      "wait_interval": 0.0
     }
    }
   },
   "outputs": [],
   "source": [
    "from opendatalake.classification.mnist import mnist\n",
    "\n",
    "base_dir = \"data/mnist\"\n",
    "\n",
    "# Get a generator and its parameters\n",
    "train_gen, train_gen_params = mnist(base_dir=base_dir, phase=\"train\")\n",
    "validation_gen, validation_gen_params = mnist(base_dir=base_dir, phase=\"validation\")\n",
    "\n",
    "# Create a generator to see some images\n",
    "data = train_gen(train_gen_params)"
   ]
  },
  {
   "cell_type": "markdown",
   "metadata": {
    "id": "K-OR1AOQdDbF",
    "colab_type": "text"
   },
   "source": [
    "Now you have downloaded the dataset and a generator which will output you labels and features.\n",
    "Let's inspect some features and labels!"
   ]
  },
  {
   "cell_type": "code",
   "execution_count": 5,
   "metadata": {
    "id": "yjgnNJZWdML9",
    "colab_type": "code",
    "colab": {
     "autoexec": {
      "startup": false,
      "wait_interval": 0.0
     },
     "base_uri": "https://localhost:8080/",
     "height": 51.0
    },
    "outputId": "e037bfdd-3406-44da-eb64-b2f3ec80af7c",
    "executionInfo": {
     "status": "ok",
     "timestamp": 1.526144734549E12,
     "user_tz": -120.0,
     "elapsed": 515.0,
     "user": {
      "displayName": "Michael PenguinMenace",
      "photoUrl": "//lh3.googleusercontent.com/-wv0FkQOEnjg/AAAAAAAAAAI/AAAAAAAAAHM/byTo6iipigo/s50-c-k-no/photo.jpg",
      "userId": "112772895502545919169"
     }
    }
   },
   "outputs": [
    {
     "name": "stdout",
     "output_type": "stream",
     "text": [
      "dict_keys(['image'])\n",
      "dict_keys(['probs'])\n"
     ]
    }
   ],
   "source": [
    "features, labels = next(data)\n",
    "print(features.keys())\n",
    "print(labels.keys())"
   ]
  },
  {
   "cell_type": "markdown",
   "metadata": {
    "id": "PbyB-19rdazt",
    "colab_type": "text"
   },
   "source": [
    "The image is a numpy array. Let's plot it using matplotlib. The label is one hot encoded probabilities. Using np.argmax you can receive the label of the image.\n",
    "\n",
    "In the case of mnist the image is a 1d-array with 786 values. However, it actually represents a (28,28) image. So first you have to reshape it using numpy.\n",
    "\n",
    "The Label is one hot encoded, this means you can use `np.argmax` to retrieve the index at which the one is (aka the label in human readable form).\n",
    "\n",
    "Finally plot the image using matplotlibs imshow."
   ]
  },
  {
   "cell_type": "code",
   "execution_count": 6,
   "metadata": {
    "id": "eVREumamdY8d",
    "colab_type": "code",
    "colab": {
     "autoexec": {
      "startup": false,
      "wait_interval": 0.0
     },
     "base_uri": "https://localhost:8080/",
     "height": 362.0
    },
    "outputId": "e62cf86f-f488-49a8-896c-357f997da913",
    "executionInfo": {
     "status": "ok",
     "timestamp": 1.526144735191E12,
     "user_tz": -120.0,
     "elapsed": 439.0,
     "user": {
      "displayName": "Michael PenguinMenace",
      "photoUrl": "//lh3.googleusercontent.com/-wv0FkQOEnjg/AAAAAAAAAAI/AAAAAAAAAHM/byTo6iipigo/s50-c-k-no/photo.jpg",
      "userId": "112772895502545919169"
     }
    }
   },
   "outputs": [
    {
     "data": {
      "image/png": "[encoded data removed]",
      "text/plain": [
       "<matplotlib.figure.Figure at 0x7fe72947d3c8>"
      ]
     },
     "metadata": {
      "tags": []
     },
     "output_type": "display_data"
    }
   ],
   "source": [
    "import numpy as np\n",
    "import matplotlib.pyplot as plt\n",
    "\n",
    "# Reshape image from (786,) to (28,28)\n",
    "img = np.reshape(features['image'], (28,28))\n",
    "number = np.argmax(labels['probs'])\n",
    "\n",
    "# Plot img with number as title\n",
    "plt.title(\"Number: %d\" % number)\n",
    "plt.imshow(img)\n",
    "plt.show()"
   ]
  },
  {
   "cell_type": "markdown",
   "metadata": {
    "id": "_FkCrnqEgz3x",
    "colab_type": "text"
   },
   "source": [
    "## Hyperparameters object\n",
    "\n",
    "We need a hyperparams object to store all hyperparamters we setup for our training. Let's create one where we can add all variables."
   ]
  },
  {
   "cell_type": "code",
   "execution_count": 0,
   "metadata": {
    "id": "aTkJkkc3g90g",
    "colab_type": "code",
    "colab": {
     "autoexec": {
      "startup": false,
      "wait_interval": 0.0
     }
    }
   },
   "outputs": [],
   "source": [
    "from starttf.utils.dict2obj import Dict2Obj\n",
    "\n",
    "hyper_params = Dict2Obj({})"
   ]
  },
  {
   "cell_type": "markdown",
   "metadata": {
    "id": "ImAClLTFfFc1",
    "colab_type": "text"
   },
   "source": [
    "## Preparing a training\n",
    "\n",
    "Before writing a model, loss and everything fancy, you need to prepare your data for training.\n",
    "\n",
    "In the case of mnist no cleaning or augmentation is required, so we can simply write the data into a tfrecord file.\n",
    "\n",
    "However, to illustrate how data augmentation could work, we will set the data augmentation steps to 1 manually.\n",
    "This involves adding a problem parameter to our hyper parameters."
   ]
  },
  {
   "cell_type": "code",
   "execution_count": 0,
   "metadata": {
    "id": "y5CfwwFgf_he",
    "colab_type": "code",
    "colab": {
     "autoexec": {
      "startup": false,
      "wait_interval": 0.0
     }
    }
   },
   "outputs": [],
   "source": [
    "from starttf.tfrecords.autorecords import write_data\n",
    "\n",
    "write_data(hyper_params, \"records/train\", train_gen, train_gen_params, 4)\n",
    "write_data(hyper_params, \"records/validation\", validation_gen, validation_gen_params, 2)"
   ]
  },
  {
   "cell_type": "markdown",
   "metadata": {
    "id": "zbYrSStLwzpU",
    "colab_type": "text"
   },
   "source": [
    "## Training a model (the easy way)\n",
    "\n",
    "Now that the data is written into a format that we can efficiently read for training, let's have a look at an easy way to train a model.\n",
    "\n",
    "First let's create a dict where to gather all hyperparameters for training. Usually you would put that in an extra .json file which can be loaded easily."
   ]
  },
  {
   "cell_type": "code",
   "execution_count": 0,
   "metadata": {
    "id": "8cw2zI7uyXet",
    "colab_type": "code",
    "colab": {
     "autoexec": {
      "startup": false,
      "wait_interval": 0.0
     }
    }
   },
   "outputs": [],
   "source": [
    "hyper_params_dict = {}"
   ]
  },
  {
   "cell_type": "markdown",
   "metadata": {
    "id": "JOmUzd22ybaZ",
    "colab_type": "text"
   },
   "source": [
    "For simplicity we will use a predefined model (we will later see how to write a create model function by ourselves).\n",
    "\n",
    "This model has a hyperparameter for `dropout_rate`"
   ]
  },
  {
   "cell_type": "code",
   "execution_count": 0,
   "metadata": {
    "id": "lXeNw6YAxNDw",
    "colab_type": "code",
    "colab": {
     "autoexec": {
      "startup": false,
      "wait_interval": 0.0
     }
    }
   },
   "outputs": [],
   "source": [
    "from starttf.models.mnist import create_model as mnist_model"
   ]
  },
  {
   "cell_type": "markdown",
   "metadata": {
    "id": "6wbIGqcsxXLd",
    "colab_type": "text"
   },
   "source": [
    "Next we need to define a loss.\n",
    "\n",
    "The loss glues together our labels and the model.\n",
    "\n",
    "In the case of mnist it is a simple cross entropy loss."
   ]
  },
  {
   "cell_type": "code",
   "execution_count": 0,
   "metadata": {
    "id": "h1hHVuwoxVkT",
    "colab_type": "code",
    "colab": {
     "autoexec": {
      "startup": false,
      "wait_interval": 0.0
     }
    }
   },
   "outputs": [],
   "source": [
    "def create_loss(model, labels, mode, hyper_params):\n",
    "    \"\"\"\n",
    "    Create a cross entropy loss with the loss as the only metric.\n",
    "\n",
    "    :param model: A dictionary containing all output tensors of your model.\n",
    "    :param labels: A dictionary containing all label tensors.\n",
    "    :param mode: tf.estimators.ModeKeys defining if you are in eval or training mode.\n",
    "    :param hyper_params: A hyper parameters object.\n",
    "    :return: All the losses (tensor dict, \"loss\" is the loss that is used for minimization)\n",
    "            and all the metrics(tensor dict) that should be logged for debugging.\n",
    "    \"\"\"\n",
    "    metrics = {}\n",
    "    losses = {}\n",
    "\n",
    "    # Add loss\n",
    "    labels = tf.reshape(labels[\"probs\"], [-1, hyper_params.problem.number_of_categories])\n",
    "    ce = tf.nn.softmax_cross_entropy_with_logits_v2(logits=model[\"logits\"], labels=labels)\n",
    "    loss_op = tf.reduce_mean(ce)\n",
    "\n",
    "    # Add losses to dict. \"loss\" is the primary loss that is optimized.\n",
    "    losses[\"loss\"] = loss_op\n",
    "    metrics['accuracy'] = tf.metrics.accuracy(labels=labels,\n",
    "                                              predictions=model[\"probs\"],\n",
    "                                              name='acc_op')\n",
    "\n",
    "    return losses, metrics\n"
   ]
  },
  {
   "cell_type": "markdown",
   "metadata": {
    "id": "UbGeBGXxxVYd",
    "colab_type": "text"
   },
   "source": [
    "Now we need to define all our hyperparameters and launch the training."
   ]
  },
  {
   "cell_type": "code",
   "execution_count": 0,
   "metadata": {
    "id": "dqggqmHNxv3D",
    "colab_type": "code",
    "colab": {
     "autoexec": {
      "startup": false,
      "wait_interval": 0.0
     },
     "base_uri": "https://localhost:8080/",
     "height": 410.0
    },
    "outputId": "123341d5-20e1-4f91-fa3c-0040875ca873"
   },
   "outputs": [
    {
     "data": {
      "image/png": "[encoded data removed]",
      "text/plain": [
       "<matplotlib.figure.Figure at 0x7fe71662eda0>"
      ]
     },
     "metadata": {
      "tags": []
     },
     "output_type": "display_data"
    },
    {
     "name": "stdout",
     "output_type": "stream",
     "text": [
      "INFO:tensorflow:Saving checkpoints for 11402 into checkpoints/2018-05-12_17.07.22/model.ckpt.\n",
      "train: Step 11450, Loss 0.00042359225335530937\n"
     ]
    }
   ],
   "source": [
    "hyper_params = Dict2Obj({\n",
    "    \"problem\": {\n",
    "        \"data_path\": \"data/mnist\",\n",
    "        \"number_of_categories\": 10\n",
    "    },\n",
    "    \"train\": {\n",
    "        \"learning_rate\": {\n",
    "            \"type\": \"const\",\n",
    "            \"start_value\": 0.001\n",
    "        },\n",
    "        \"optimizer\": {\n",
    "            \"type\": \"adam\"\n",
    "        },\n",
    "        \"batch_size\": 64,\n",
    "        \"validation_batch_size\": 64,\n",
    "        \"steps\": 20000,\n",
    "        \"summary_steps\": 50,\n",
    "        \"save_checkpoint_steps\": 50,\n",
    "        \"keep_checkpoint_max\": 200,\n",
    "        \"checkpoint_path\": \"checkpoints\",\n",
    "        \"tf_records_path\": \"records\"\n",
    "    },\n",
    "    \"arch\": {\n",
    "        \"network_name\": \"MnistNetwork\",\n",
    "        \"dropout_rate\": 0.5\n",
    "    }\n",
    "})\n",
    "\n",
    "from starttf.estimators.scientific_estimator import easy_train_and_evaluate\n",
    "\n",
    "easy_train_and_evaluate(hyper_params, mnist_model, create_loss, inline_plotting=True)"
   ]
  },
  {
   "cell_type": "markdown",
   "metadata": {
    "id": "l5vZRDeY5rb8",
    "colab_type": "text"
   },
   "source": [
    "If you run this code on your native machine, you can visit the checkpoints path and find images there which contain plots of your metrics. In this case the loss."
   ]
  },
  {
   "cell_type": "markdown",
   "metadata": {
    "id": "pjVt8y9mr87M",
    "colab_type": "text"
   },
   "source": [
    "## Defining a model"
   ]
  },
  {
   "cell_type": "markdown",
   "metadata": {
    "id": "Y-D3lhx_tfah",
    "colab_type": "text"
   },
   "source": [
    "Next we define a model using those tensors.\n",
    "Creating a model works by passing in an input_tensor, mode, and hyper params.\n",
    "\n",
    "The mode tells the network if it has to run in evaluation, prediction or training mode.\n",
    "When in eval mode, we want to resue the weights from the training network.\n",
    "Otherwise the network would train and evaluate using different weights.\n",
    "\n",
    "The Network we want to write is a little bit ispired by vgg just smaller. We have 2 conv layers, a pooling layer, 2 conv layers a pooling layer, dropout in training and finally some fully connected layer before a softmax layer."
   ]
  },
  {
   "cell_type": "code",
   "execution_count": 0,
   "metadata": {
    "id": "accAmakd0_sf",
    "colab_type": "code",
    "colab": {
     "autoexec": {
      "startup": false,
      "wait_interval": 0.0
     }
    }
   },
   "outputs": [],
   "source": [
    "def create_model(input_tensor, mode, hyper_params):\n",
    "    model = {}\n",
    "    \n",
    "    with tf.variable_scope('SimpleMnistNetwork') as scope:\n",
    "        # Prepare the inputs\n",
    "        x = tf.reshape(tensor=input_tensor[\"image\"], shape=(-1, 28, 28, 1), name=\"input\")\n",
    "\n",
    "        # First Conv Block\n",
    "        conv1 = tf.layers.conv2d(inputs=x, filters=16, kernel_size=(3, 3), strides=(1, 1), name=\"conv1\",\n",
    "                                 activation=tf.nn.relu)\n",
    "        conv2 = tf.layers.conv2d(inputs=conv1, filters=32, kernel_size=(3, 3), strides=(1, 1), name=\"conv2\",\n",
    "                                 activation=tf.nn.relu)\n",
    "        pool2 = tf.layers.max_pooling2d(inputs=conv2, pool_size=(2, 2), strides=(2, 2), name=\"pool2\")\n",
    "\n",
    "        # Second Conv Block\n",
    "        conv3 = tf.layers.conv2d(inputs=pool2, filters=32, kernel_size=(3, 3), strides=(1, 1), name=\"conv3\",\n",
    "                                 activation=tf.nn.relu)\n",
    "        conv4 = tf.layers.conv2d(inputs=conv3, filters=32, kernel_size=(3, 3), strides=(1, 1), name=\"conv4\",\n",
    "                                 activation=tf.nn.relu)\n",
    "        pool4 = tf.layers.max_pooling2d(inputs=conv4, pool_size=(2, 2), strides=(2, 2), name=\"pool4\")\n",
    "        if mode == tf.estimator.ModeKeys.TRAIN:\n",
    "            pool4 = tf.layers.dropout(inputs=pool4, rate=hyper_params.arch.dropout_rate, name=\"drop4\")\n",
    "\n",
    "        # Fully Connected Block\n",
    "        probs = tf.layers.flatten(inputs=pool4)\n",
    "        logits = tf.layers.dense(inputs=probs, units=10, activation=None, name=\"logits\")\n",
    "        probs = tf.nn.softmax(logits=logits, name=\"probs\")\n",
    "\n",
    "        # Collect outputs for api of network.\n",
    "        model[\"pool2\"] = pool2\n",
    "        model[\"pool4\"] = pool4\n",
    "        model[\"logits\"] = logits\n",
    "        model[\"probs\"] = probs\n",
    "    return model"
   ]
  },
  {
   "cell_type": "markdown",
   "metadata": {
    "id": "pmBR5Vxs1AH9",
    "colab_type": "text"
   },
   "source": [
    "Now let's train the model again."
   ]
  },
  {
   "cell_type": "code",
   "execution_count": 0,
   "metadata": {
    "id": "Hvy79ETqtpTm",
    "colab_type": "code",
    "colab": {
     "autoexec": {
      "startup": false,
      "wait_interval": 0.0
     }
    }
   },
   "outputs": [],
   "source": [
    "easy_train_and_evaluate(hyper_params, create_model, create_loss, inline_plotting=True)"
   ]
  },
  {
   "cell_type": "markdown",
   "metadata": {
    "id": "_x5yya7f2HXb",
    "colab_type": "text"
   },
   "source": [
    "Congratulations!\n",
    "\n",
    "When you now want to work on a different dataset you have to do basically the same."
   ]
  },
  {
   "cell_type": "markdown",
   "metadata": {
    "id": "WEvh33oA2Mxh",
    "colab_type": "text"
   },
   "source": [
    "## How to do that on something else than mnist?\n",
    "\n",
    "1. Write a data generator, like the mnist generator we used. (See [mnist here](https://github.com/penguinmenac3/opendatalake/blob/master/opendatalake/classification/mnist.py) or a named folder based loader [here](https://github.com/penguinmenac3/opendatalake/blob/master/opendatalake/classification/named_folders.py))\n",
    "```python\n",
    "def threadable_gen(params, stride=1, offset=0, infinite=False):\n",
    "        # This function cannot be a lambda or pooling does not work.\n",
    "        # All interactions with the outside world must be via the params object. (agian for pooling to work)\n",
    "        # yield dicts for features and labels\n",
    "```\n",
    "2. Prepare your data as we have done here using the write_data method. You can optionally pass in a data augmentation, label_preprocessing and feature_preprocessing method if you want to.\n",
    "```python\n",
    "def write_data(hyper_params,\n",
    "               prefix,\n",
    "               threadable_generator,\n",
    "               params,\n",
    "               num_threads,\n",
    "               preprocess_feature=None,\n",
    "               preprocess_label=None,\n",
    "               augment_data=None):\n",
    "```\n",
    "3. Write a model or use a predefined one. There are implementations of common models in starttf.models. You can find vgg16 there for example. If you have an awesome model, consider a pull request at [starttf project on github](https://github.com/penguinmenac3/starttf/)\n",
    "```python\n",
    "def create_model(input_tensor, mode, hyper_params):\n",
    "       # Return a model output tensors dict.\n",
    "```\n",
    "4. Write a loss like we did here to glue together your model and the labels.\n",
    "```python\n",
    "def create_loss(model, labels, mode, hyper_params):\n",
    "        # Return a losses dict (the entry for key \"loss\" is used for minimization) and metrics dict (like shown in this notebook)\n",
    "        # If you need some advanced losses, consider using starttf.losses. (alpha balancing, focus loss, mask loss, ...)\n",
    "```\n",
    "5. Use the easy_train_and_evaluate method or write your own training logic. Here we used a train_and_evaluate method, if you need some specific training that it cannot do you can use the source code [here](https://github.com/penguinmenac3/starttf/blob/master/starttf/estimators/scientific_estimator.py) and modify it to your requirements. If it is of general interest and has good code quality, consider pull requesting. ;)\n",
    "```python\n",
    "def easy_train_and_evaluate(hyper_params, create_model, create_loss, init_model=None):\n",
    "        # Init Model is a callback that you can use to initialize your model with pretrained weights just before training starts.\n",
    "```\n",
    "\n",
    "Stick to those patterns and writing a model for example 3d-detection of vehicles in realtime is done with just as many lines of code as writing an mnist network.\n",
    "Trust me on that one. I tried it myself. ;)"
   ]
  }
 ],
 "metadata": {
  "colab": {
   "name": "Starttf.ipynb",
   "version": "0.3.2",
   "views": {},
   "default_view": {},
   "provenance": [],
   "collapsed_sections": []
  },
  "kernelspec": {
   "name": "python3",
   "display_name": "Python 3"
  }
 },
 "nbformat": 4,
 "nbformat_minor": 0
}
